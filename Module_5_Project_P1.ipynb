{
 "cells": [
  {
   "cell_type": "markdown",
   "id": "7d89715a-6d70-4cf4-a3a5-5d7da5f17ec5",
   "metadata": {},
   "source": [
    "# Project - Part 1 (from 7.14 above)"
   ]
  },
  {
   "cell_type": "code",
   "execution_count": null,
   "id": "113e2609-2f76-408b-95a1-80f7ff7b059a",
   "metadata": {},
   "outputs": [],
   "source": [
    "# Project - Part 1 (from 7.14 above)\n",
    "# Create a new .py file or a new IPython notebook in Jupyter Lab.\n",
    "# We'll look at using a one-dimensional pandas Series to hold and process simple exam data."
   ]
  },
  {
   "cell_type": "code",
   "execution_count": 3,
   "id": "8f29c5e8-2f1f-498a-8d11-90ce8ed3c808",
   "metadata": {},
   "outputs": [
    {
     "name": "stdout",
     "output_type": "stream",
     "text": [
      "87\n",
      "3\n",
      "93.66666666666667\n",
      "87\n",
      "100\n",
      "6.506407098647712\n",
      "100\n",
      "87\n",
      "[ 87 100  94]\n"
     ]
    }
   ],
   "source": [
    "# Follow the instructions in 7.14 to import the pandas module and create a pandas Series named grades from a list of integers (exam scores).\n",
    "import pandas as pd\n",
    "grades = pd.Series([87, 100, 94])\n",
    "\n",
    "# Get the value of the first grade with grades[0].\n",
    "print(grades[0])\n",
    "\n",
    "# Call the built in Series functions: count(), mean(), min(), max(), std(), and describe().\n",
    "print(grades.count())\n",
    "print(grades.mean())\n",
    "print(grades.min())\n",
    "print(grades.max())\n",
    "print(grades.std())\n",
    "\n",
    "# Follow the instructions in the \"Dictionary Initializers' subsection to modify your code to initialize grades with a dictionary (a set of key-value pairs instead) \n",
    "# - we'll use the student name as the key  and their exam score as the value. \n",
    "grades = pd.Series({'Wally': 87, 'Eva': 100, 'Sam': 94})\n",
    "\n",
    "# Get Eva's score by calling grades['Eva']\n",
    "print(grades['Eva'])\n",
    "\n",
    "# Get Wally's score using the easier dot notation: grades.Wally.  This is much more common and can be used as long as there are NO spaces in the key text.  \n",
    "# If there are spaces, you'll have to use the approach we used for Eva above - wrapping the key in single quotes. \n",
    "print(grades.Wally)\n",
    "\n",
    "# Use the Series values attribute to view the array of values. \n",
    "print(grades.values)\n",
    "\n",
    "# We can use a Series whenever our values are a simple one-dimensional array.  \n",
    "# Take a screenshot after finishing this part of the project.\n",
    "# Amanda Hanway"
   ]
  }
 ],
 "metadata": {
  "kernelspec": {
   "display_name": "Python 3 (ipykernel)",
   "language": "python",
   "name": "python3"
  },
  "language_info": {
   "codemirror_mode": {
    "name": "ipython",
    "version": 3
   },
   "file_extension": ".py",
   "mimetype": "text/x-python",
   "name": "python",
   "nbconvert_exporter": "python",
   "pygments_lexer": "ipython3",
   "version": "3.9.7"
  }
 },
 "nbformat": 4,
 "nbformat_minor": 5
}
