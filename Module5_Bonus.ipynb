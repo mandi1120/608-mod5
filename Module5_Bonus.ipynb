{
 "cells": [
  {
   "cell_type": "markdown",
   "id": "7cf53963-6a49-4683-9e8b-d87cd8efd403",
   "metadata": {},
   "source": [
    "# Bonus (Optional)"
   ]
  },
  {
   "cell_type": "code",
   "execution_count": null,
   "id": "e672d352-c8c4-49a1-a702-ff663f279c5f",
   "metadata": {},
   "outputs": [],
   "source": [
    "# Strings are processed as arrays of characters. Everything already learned applies. \n",
    "# Raw data is rarely ready for processing. We may spend most of our time getting information ready to be processed.\n",
    "# Follow the instructions in 8.13. "
   ]
  },
  {
   "cell_type": "code",
   "execution_count": 23,
   "id": "c28ace20-f59a-44cb-beba-43ae5a226521",
   "metadata": {},
   "outputs": [
    {
     "name": "stdout",
     "output_type": "stream",
     "text": [
      "Boston    02215\n",
      "Miami      3310\n",
      "dtype: object\n",
      "\n",
      "check if a zipcode is valid:\n",
      "Boston     True\n",
      "Miami     False\n",
      "dtype: bool\n"
     ]
    }
   ],
   "source": [
    "# Create a pandas Series from a dictionary (key-value pairs) of City-Zip pairs as shown. \n",
    "# Use str.match() and regular expressions to check if a zipcode is valid (exactly 5 digits)\n",
    "import pandas as pd\n",
    "zips = pd.Series({'Boston': '02215', 'Miami': '3310'})\n",
    "print(zips)\n",
    "print()\n",
    "\n",
    "print('check if a zipcode is valid:')\n",
    "print(zips.str.match(r'\\d{5}'))"
   ]
  },
  {
   "cell_type": "code",
   "execution_count": 26,
   "id": "a042fca6-23df-4646-91bb-5b95ce3a9daf",
   "metadata": {},
   "outputs": [
    {
     "name": "stdout",
     "output_type": "stream",
     "text": [
      "0    Boston, MA 02215\n",
      "1     Miami, FL 33101\n",
      "dtype: object\n",
      "\n",
      "Use str.contains() and regular expressions to see if each entry includes letters\n",
      "0    True\n",
      "1    True\n",
      "dtype: bool\n",
      "\n",
      "...and str.match() to see if it exactly matches the defined pattern.\n",
      "0    False\n",
      "1    False\n",
      "dtype: bool\n"
     ]
    }
   ],
   "source": [
    "# Create a pandas Series from an array of City names as shown. \n",
    "# Use str.contains() and regular expressions to see if each entry includes letters \n",
    "# and str.match() to see if it exactly matches the defined pattern.\n",
    "cities = pd.Series(['Boston, MA 02215', 'Miami, FL 33101'])\n",
    "print(cities)\n",
    "print()\n",
    "\n",
    "print('Use str.contains() and regular expressions to see if each entry includes letters')\n",
    "print(cities.str.contains(r' [A-Z]{2} '))\n",
    "print()\n",
    "\n",
    "print('...and str.match() to see if it exactly matches the defined pattern.')\n",
    "print(cities.str.match(r' [A-Z]{2} '))"
   ]
  },
  {
   "cell_type": "code",
   "execution_count": 21,
   "id": "22d956eb-1454-45b6-b3aa-6483b5d0598e",
   "metadata": {},
   "outputs": [
    {
     "name": "stdout",
     "output_type": "stream",
     "text": [
      "Contactsdf:\n",
      "         Name             Email       Phone\n",
      "0  Mike Green  demo1@deitel.com  5555555555\n",
      "1   Sue Brown  demo2@deitel.com  5555551234\n",
      "\n",
      "formatted_phone:\n",
      "0    555-555-5555\n",
      "1    555-555-1234\n",
      "Name: Phone, dtype: object\n",
      "\n",
      "contactsdf with formatted_phone:\n",
      "         Name             Email         Phone\n",
      "0  Mike Green  demo1@deitel.com  555-555-5555\n",
      "1   Sue Brown  demo2@deitel.com  555-555-1234\n"
     ]
    }
   ],
   "source": [
    "# Create a pandas DataFrame named contactsdf from a two-dimensional array. \n",
    "# Reformat the phone numbers to include common dashes. \n",
    "contacts = [['Mike Green', 'demo1@deitel.com', '5555555555'], ['Sue Brown', 'demo2@deitel.com', '5555551234']]\n",
    "contactsdf = pd.DataFrame(contacts, columns=['Name', 'Email', 'Phone'])\n",
    "print('Contactsdf:')\n",
    "print(contactsdf)\n",
    "print()\n",
    "\n",
    "import re\n",
    "\n",
    "def get_formatted_phone(value):\n",
    "    result = re.fullmatch(r'(\\d{3})(\\d{3})(\\d{4})', value)\n",
    "    return '-'.join(result.groups()) if result else value\n",
    "\n",
    "formatted_phone = contactsdf['Phone'].map(get_formatted_phone)\n",
    "print('formatted_phone:')\n",
    "print(formatted_phone)\n",
    "print()\n",
    "\n",
    "contactsdf['Phone'] = formatted_phone\n",
    "print('contactsdf with formatted_phone:')\n",
    "print(contactsdf)"
   ]
  },
  {
   "cell_type": "code",
   "execution_count": null,
   "id": "94cdaed8-033e-46f8-a8b0-3dee86bcd0cb",
   "metadata": {},
   "outputs": [],
   "source": [
    "# Display a screen shot showing your work (this can all be done in a single file). "
   ]
  }
 ],
 "metadata": {
  "kernelspec": {
   "display_name": "Python 3 (ipykernel)",
   "language": "python",
   "name": "python3"
  },
  "language_info": {
   "codemirror_mode": {
    "name": "ipython",
    "version": 3
   },
   "file_extension": ".py",
   "mimetype": "text/x-python",
   "name": "python",
   "nbconvert_exporter": "python",
   "pygments_lexer": "ipython3",
   "version": "3.9.7"
  }
 },
 "nbformat": 4,
 "nbformat_minor": 5
}
